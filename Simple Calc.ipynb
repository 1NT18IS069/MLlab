{
 "cells": [
  {
   "cell_type": "code",
   "execution_count": 4,
   "metadata": {},
   "outputs": [
    {
     "name": "stdout",
     "output_type": "stream",
     "text": [
      "enter 1st number3\n",
      "enter 2nd number4\n",
      "3\n",
      "4\n",
      "enter operator+\n",
      "+\n",
      "The sum is\n",
      "7\n"
     ]
    }
   ],
   "source": [
    "a=int(input(\"enter 1st number\"))\n",
    "b=int(input(\"enter 2nd number\"))\n",
    "print(a)\n",
    "print(b)\n",
    "c=input(\"enter operator\")\n",
    "print(c)\n",
    "if(c=='+'):\n",
    "    res=a+b\n",
    "    print(\"The sum is\")\n",
    "    print(res)\n",
    "elif(c=='-'):\n",
    "    res=a-b\n",
    "    print(\"The difference is\")\n",
    "    print(res)\n",
    "elif(c=='*'):\n",
    "    res=a*b\n",
    "    print(\"The product is\")\n",
    "    print(res)\n",
    "else:\n",
    "    res=a/b\n",
    "    print(\"The division is\")\n",
    "    print(res)"
   ]
  },
  {
   "cell_type": "code",
   "execution_count": 8,
   "metadata": {},
   "outputs": [
    {
     "name": "stdout",
     "output_type": "stream",
     "text": [
      "15\n"
     ]
    }
   ],
   "source": [
    "list3=[11,12,14,13,15,16,18,19,20,25,26,27,30,40,50]\n",
    "l=len(list3)\n",
    "print(l)"
   ]
  },
  {
   "cell_type": "code",
   "execution_count": 7,
   "metadata": {},
   "outputs": [
    {
     "name": "stdout",
     "output_type": "stream",
     "text": [
      "336\n"
     ]
    }
   ],
   "source": [
    "sum=0\n",
    "for i in(list3):\n",
    "    sum=sum+i\n",
    "print(sum)\n",
    "    "
   ]
  },
  {
   "cell_type": "code",
   "execution_count": 9,
   "metadata": {},
   "outputs": [
    {
     "name": "stdout",
     "output_type": "stream",
     "text": [
      "Mean is :\n",
      "22.4\n"
     ]
    }
   ],
   "source": [
    "mean=sum/l\n",
    "print(\"Mean is :\")\n",
    "print(mean)"
   ]
  },
  {
   "cell_type": "code",
   "execution_count": 12,
   "metadata": {},
   "outputs": [
    {
     "name": "stdout",
     "output_type": "stream",
     "text": [
      "[11, 12, 13, 14, 15, 16, 18, 19, 20, 25, 26, 27, 30, 40, 50]\n"
     ]
    }
   ],
   "source": [
    "for i in range(l):\n",
    "    for j in range (i+1,l):\n",
    "        if(list3[i]>list3[j]):\n",
    "            tmp=list3[i]\n",
    "            list3[i]=list3[j]\n",
    "            list3[j]=tmp\n",
    "print(list3)"
   ]
  },
  {
   "cell_type": "code",
   "execution_count": 30,
   "metadata": {},
   "outputs": [
    {
     "name": "stdout",
     "output_type": "stream",
     "text": [
      "19\n",
      "{11: 1, 12: 1, 13: 1, 14: 1, 15: 1, 16: 1, 18: 1, 19: 1, 20: 1, 25: 1, 26: 1, 27: 1, 30: 1, 40: 1, 50: 1}\n",
      "No mode in the list\n"
     ]
    }
   ],
   "source": [
    "if(l%2==0):\n",
    "    m=list3[l//2]\n",
    "    n=list3[l//2-1]\n",
    "    med=(m+n)/2\n",
    "    print( str(med))\n",
    "else:\n",
    "    med=list3[l//2]\n",
    "    print(str(med))\n",
    "    \n",
    "    \n",
    "import collections\n",
    "\n",
    "data = collections.Counter(list3)\n",
    "data_list = dict(data)\n",
    "print(data_list)\n",
    "\n",
    "max_value = max(list(data.values()))\n",
    "mode_val = [num for num, freq in data_list.items() if freq == max_value]\n",
    "if len(mode_val) == len(list3):\n",
    "   print(\"No mode in the list\")\n",
    "else:\n",
    "   print(\"The Mode of the list is : \" + ', '.join(map(str, mode_val)))\n",
    "    \n",
    "    \n",
    "    \n",
    "\n"
   ]
  },
  {
   "cell_type": "code",
   "execution_count": 18,
   "metadata": {},
   "outputs": [
    {
     "data": {
      "text/plain": [
       "22.4"
      ]
     },
     "execution_count": 18,
     "metadata": {},
     "output_type": "execute_result"
    }
   ],
   "source": [
    "import statistics as st\n",
    "st.mean(list3)"
   ]
  },
  {
   "cell_type": "code",
   "execution_count": 19,
   "metadata": {},
   "outputs": [
    {
     "data": {
      "text/plain": [
       "19"
      ]
     },
     "execution_count": 19,
     "metadata": {},
     "output_type": "execute_result"
    }
   ],
   "source": [
    "st.median(list3)\n"
   ]
  },
  {
   "cell_type": "code",
   "execution_count": 20,
   "metadata": {},
   "outputs": [
    {
     "ename": "StatisticsError",
     "evalue": "no unique mode; found 15 equally common values",
     "output_type": "error",
     "traceback": [
      "\u001b[0;31m---------------------------------------------------------------------------\u001b[0m",
      "\u001b[0;31mStatisticsError\u001b[0m                           Traceback (most recent call last)",
      "\u001b[0;32m<ipython-input-20-650d1cf71a39>\u001b[0m in \u001b[0;36m<module>\u001b[0;34m\u001b[0m\n\u001b[0;32m----> 1\u001b[0;31m \u001b[0mst\u001b[0m\u001b[0;34m.\u001b[0m\u001b[0mmode\u001b[0m\u001b[0;34m(\u001b[0m\u001b[0mlist3\u001b[0m\u001b[0;34m)\u001b[0m\u001b[0;34m\u001b[0m\u001b[0;34m\u001b[0m\u001b[0m\n\u001b[0m",
      "\u001b[0;32m~/anaconda3/lib/python3.7/statistics.py\u001b[0m in \u001b[0;36mmode\u001b[0;34m(data)\u001b[0m\n\u001b[1;32m    504\u001b[0m     \u001b[0;32melif\u001b[0m \u001b[0mtable\u001b[0m\u001b[0;34m:\u001b[0m\u001b[0;34m\u001b[0m\u001b[0;34m\u001b[0m\u001b[0m\n\u001b[1;32m    505\u001b[0m         raise StatisticsError(\n\u001b[0;32m--> 506\u001b[0;31m                 \u001b[0;34m'no unique mode; found %d equally common values'\u001b[0m \u001b[0;34m%\u001b[0m \u001b[0mlen\u001b[0m\u001b[0;34m(\u001b[0m\u001b[0mtable\u001b[0m\u001b[0;34m)\u001b[0m\u001b[0;34m\u001b[0m\u001b[0;34m\u001b[0m\u001b[0m\n\u001b[0m\u001b[1;32m    507\u001b[0m                 )\n\u001b[1;32m    508\u001b[0m     \u001b[0;32melse\u001b[0m\u001b[0;34m:\u001b[0m\u001b[0;34m\u001b[0m\u001b[0;34m\u001b[0m\u001b[0m\n",
      "\u001b[0;31mStatisticsError\u001b[0m: no unique mode; found 15 equally common values"
     ]
    }
   ],
   "source": [
    "st.mode(list3)"
   ]
  },
  {
   "cell_type": "code",
   "execution_count": 28,
   "metadata": {},
   "outputs": [
    {
     "name": "stdout",
     "output_type": "stream",
     "text": [
      "[11, 12, 13, 14, 15, 16, 18, 19, 20, 25, 26, 27, 30, 40, 50]\n"
     ]
    }
   ],
   "source": [
    "print(list3)\n"
   ]
  },
  {
   "cell_type": "code",
   "execution_count": 29,
   "metadata": {},
   "outputs": [
    {
     "name": "stdout",
     "output_type": "stream",
     "text": [
      "Mode(s) is/are :{40, 11, 12, 13, 14, 15, 16, 18, 19, 20, 50, 25, 26, 27, 30}\n"
     ]
    }
   ],
   "source": []
  },
  {
   "cell_type": "code",
   "execution_count": null,
   "metadata": {},
   "outputs": [],
   "source": []
  }
 ],
 "metadata": {
  "kernelspec": {
   "display_name": "Python 3",
   "language": "python",
   "name": "python3"
  },
  "language_info": {
   "codemirror_mode": {
    "name": "ipython",
    "version": 3
   },
   "file_extension": ".py",
   "mimetype": "text/x-python",
   "name": "python",
   "nbconvert_exporter": "python",
   "pygments_lexer": "ipython3",
   "version": "3.7.4"
  }
 },
 "nbformat": 4,
 "nbformat_minor": 2
}
